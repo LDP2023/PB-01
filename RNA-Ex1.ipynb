{
  "nbformat": 4,
  "nbformat_minor": 0,
  "metadata": {
    "colab": {
      "provenance": [],
      "toc_visible": true,
      "authorship_tag": "ABX9TyOg7TrDPRwVSwEuj2rIQbz5",
      "include_colab_link": true
    },
    "kernelspec": {
      "name": "python3",
      "display_name": "Python 3"
    },
    "language_info": {
      "name": "python"
    }
  },
  "cells": [
    {
      "cell_type": "markdown",
      "metadata": {
        "id": "view-in-github",
        "colab_type": "text"
      },
      "source": [
        "<a href=\"https://colab.research.google.com/github/LDP2023/PB-01/blob/main/RNA-Ex1.ipynb\" target=\"_parent\"><img src=\"https://colab.research.google.com/assets/colab-badge.svg\" alt=\"Open In Colab\"/></a>"
      ]
    },
    {
      "cell_type": "code",
      "execution_count": null,
      "metadata": {
        "id": "CoRoxLm0VwG4"
      },
      "outputs": [],
      "source": [
        "import numpy as np\n",
        "\n",
        "def heaviside(v):\n",
        "  if v >= 0:\n",
        "    return 1\n",
        "  else:\n",
        "    return 0\n",
        "\n",
        "def perceptron (x, w, b):\n",
        "  v = np.dot(w, x) + b\n",
        "  y = heaviside(v)\n",
        "  return y\n",
        "\n",
        "  x = [0.3, 0, 1]\n",
        "  w = [0.5, 0.2, 0.1]\n",
        "  y = perceptron(x,y,0)\n",
        "  print(y)\n",
        "\n"
      ]
    },
    {
      "cell_type": "markdown",
      "source": [
        "# Nova seção"
      ],
      "metadata": {
        "id": "HfZXfroErZS3"
      }
    },
    {
      "cell_type": "markdown",
      "source": [],
      "metadata": {
        "id": "WT30dfYFrOz3"
      }
    }
  ]
}